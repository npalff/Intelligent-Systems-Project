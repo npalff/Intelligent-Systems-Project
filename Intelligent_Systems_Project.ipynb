{
  "nbformat": 4,
  "nbformat_minor": 0,
  "metadata": {
    "colab": {
      "name": "Intelligent Systems Project.ipynb",
      "provenance": [],
      "include_colab_link": true
    },
    "kernelspec": {
      "name": "python3",
      "display_name": "Python 3"
    },
    "language_info": {
      "name": "python"
    }
  },
  "cells": [
    {
      "cell_type": "markdown",
      "metadata": {
        "id": "view-in-github",
        "colab_type": "text"
      },
      "source": [
        "<a href=\"https://colab.research.google.com/github/npalff/Intelligente-Systems-Project/blob/main/Intelligent_Systems_Project.ipynb\" target=\"_parent\"><img src=\"https://colab.research.google.com/assets/colab-badge.svg\" alt=\"Open In Colab\"/></a>"
      ]
    },
    {
      "cell_type": "markdown",
      "metadata": {
        "id": "Rd0QD9mNgyVR"
      },
      "source": [
        "# <center>Recognizing Digits using Neural Networks</center>\n",
        "\n",
        "<center>\n",
        "Academic Year 2020 - 2021\n",
        "\n",
        "João Vitor VARGAS SOARES <br>\n",
        "Nicolau PEREIRA ALFF\n",
        "</center>\n",
        "\n",
        "---\n",
        "\n",
        "This is a project exercise for the subject Intelligent Systems: Recognition and Reasoning at ENSIMAG.\n",
        "\n",
        "We will program a neural network in Python 3 and Keras to recognize digits in the MNIST (Modified National Institute of Standards and Technology) dataset.\n",
        "\n",
        "\n",
        "\n"
      ]
    },
    {
      "cell_type": "markdown",
      "metadata": {
        "id": "JpMpCaqgi7CN"
      },
      "source": [
        "In this first cell we import all libraries we will need"
      ]
    },
    {
      "cell_type": "code",
      "metadata": {
        "id": "0EbFUV8gglWG"
      },
      "source": [
        ""
      ],
      "execution_count": null,
      "outputs": []
    }
  ]
}